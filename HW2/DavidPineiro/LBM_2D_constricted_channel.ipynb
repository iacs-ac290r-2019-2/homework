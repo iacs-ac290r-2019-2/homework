{
 "cells": [
  {
   "cell_type": "markdown",
   "metadata": {},
   "source": [
    "# A simple Lattice Bolzmann scheme in 2D square region"
   ]
  },
  {
   "cell_type": "markdown",
   "metadata": {},
   "source": [
    "LBM direction (ref: http://sites.psu.edu/sihongyan/pflbm/):\n",
    "\n",
    "    6 2 5\n",
    "    3 0 1\n",
    "    7 4 8"
   ]
  },
  {
   "cell_type": "code",
   "execution_count": 2,
   "metadata": {},
   "outputs": [],
   "source": [
    "%matplotlib inline\n",
    "import numpy as np\n",
    "import matplotlib.pyplot as plt\n",
    "\n",
    "from numba import jit"
   ]
  },
  {
   "cell_type": "markdown",
   "metadata": {},
   "source": [
    "## Initialization"
   ]
  },
  {
   "cell_type": "code",
   "execution_count": 3,
   "metadata": {},
   "outputs": [],
   "source": [
    "# == constants ==\n",
    "nx = 200  # points in x direction\n",
    "ny = 60  # points in y direction\n",
    "nq = 9  # D2Q9 LBM\n",
    "omega = 1 # relaxation parameters, between [0, 2]\n",
    "force = 1e-4  # external forcing in x direction\n",
    "\n",
    "cs2 = 1/3  # sound speed squared\n",
    "cs = np.sqrt(cs2)  # sound speed\n",
    "cs4 = cs2**2\n",
    "\n",
    "# BC\n",
    "wx = 30\n",
    "lx = 50\n",
    "wyh = int(ny - (ny - wx)/2);\n",
    "wyl = int((ny - wx)/2);\n",
    "b_left = int((nx - lx)/2); # 74\n",
    "b_right = int((nx - lx)/2 + lx); #124\n",
    "\n",
    "#  weights for D2Q9\n",
    "w = np.array([4/9,\n",
    "     1/9 ,1/9, 1/9, 1/9,\n",
    "     1/36, 1/36, 1/36, 1/36])\n",
    "\n",
    "# == prognostic variables ==\n",
    "# Is (ny, nx, nq) a more efficient memory layout than (nq, ny, nx) ?\n",
    "# +2 is for buffering regions\n",
    "f = np.zeros((ny+2, nx+2, nq))  # particle population. \n",
    "feq = np.zeros((ny+2, nx+2, nq))  # The equilibrium distribution\n",
    "\n",
    "ux = np.zeros((ny+2, nx+2))  #  macroscopic velocity in x\n",
    "uy = np.zeros((ny+2, nx+2))  #  macroscopic velocity in y\n",
    "rho = np.zeros((ny+2, nx+2))  # macroscopic density (sum of particle in all directions)"
   ]
  },
  {
   "cell_type": "markdown",
   "metadata": {},
   "source": [
    "## The LBM solver code\n",
    "Functions are written in C-like form. Only manipulating pointers. Do not return. Use loop insteads of vectorization."
   ]
  },
  {
   "cell_type": "code",
   "execution_count": 323,
   "metadata": {},
   "outputs": [],
   "source": [
    "@jit\n",
    "def apply_forcing(f, force):\n",
    "    for j in range(1, ny+1):\n",
    "        for i in range(1, nx+1):\n",
    "            if j >= wyh or j <= wyl:\n",
    "                if i <= b_right and i >= b_left:\n",
    "                    continue\n",
    "            f[j, i, 1] += force\n",
    "            f[j, i, 5] += force\n",
    "            f[j, i, 8] += force\n",
    "\n",
    "            f[j, i, 3] -= force\n",
    "            f[j, i, 6] -= force\n",
    "            f[j, i, 7] -= force"
   ]
  },
  {
   "cell_type": "code",
   "execution_count": 315,
   "metadata": {},
   "outputs": [],
   "source": [
    "@jit\n",
    "def equilibrium(rho, ux, uy, feq):   \n",
    "    '''\n",
    "    Computing equilibrium population from macroscopic variables\n",
    "    \n",
    "    Adapted from `subroutine equili` in Sauro Succi's Fortran code\n",
    "    \n",
    "    Input\n",
    "    -----\n",
    "    rho: 2D numpy array, density\n",
    "    ux, uy: 2D numpy array, velocity\n",
    "    \n",
    "    Output\n",
    "    ------\n",
    "    feq: 3D numpy array, equilibrium population\n",
    "    '''\n",
    "    \n",
    "    for j in range(1, ny+1):\n",
    "        for i in range(1, nx+1):\n",
    "            if j >= wyh or j <= wyl:\n",
    "                if i <= b_right and i >= b_left:\n",
    "                    feq[j,i,1] = 0.0\n",
    "                    feq[j,i,2] = 0.0\n",
    "                    feq[j,i,3] = 0.0\n",
    "                    feq[j,i,4] = 0.0\n",
    "                    continue\n",
    "            # == expressions that can be reused ==  \n",
    "            # Comments are the corresponding variable names in Sauro Succi's Fortran code\n",
    "            ux_d_cs2 = ux[j, i] / cs2  # ui\n",
    "            uy_d_cs2 = uy[j, i] / cs2  # vi\n",
    "            ux2_d_2cs4 = ux[j, i]**2 / (2*cs4)  # u2\n",
    "            uy2_d_2cs4 = uy[j, i]**2 / (2*cs4)  # v2\n",
    "            \n",
    "            v2_d_2cs2 = (ux[j, i]**2 + uy[j, i]**2) / (2*cs2)  # sumsq (v = velocity magnitude)\n",
    "            v2_d_sp = v2_d_2cs2 * (1.0 - cs2) / cs2  # sumsq2  (sp = special)\n",
    "            uxuy_d_cs4 = ux_d_cs2 * uy_d_cs2  # uv\n",
    "        \n",
    "            # == computing equilibrium ==\n",
    "            feq[j, i, 0] = rho[j, i]*w[0]*(1 - v2_d_2cs2)\n",
    "\n",
    "            feq[j, i, 1] = rho[j, i]*w[1]*(1 - v2_d_2cs2 + ux_d_cs2 + ux2_d_2cs4)\n",
    "            feq[j, i, 2] = rho[j, i]*w[2]*(1 - v2_d_2cs2 + uy_d_cs2 + uy2_d_2cs4)\n",
    "            feq[j, i, 3] = rho[j, i]*w[3]*(1 - v2_d_2cs2 - ux_d_cs2 + ux2_d_2cs4)\n",
    "            feq[j, i, 4] = rho[j, i]*w[4]*(1 - v2_d_2cs2 - uy_d_cs2 + uy2_d_2cs4)\n",
    "\n",
    "            feq[j, i, 5] = rho[j, i]*w[5]*(1 + v2_d_sp + ux_d_cs2 + uy_d_cs2 + uxuy_d_cs4)\n",
    "            feq[j, i, 6] = rho[j, i]*w[6]*(1 + v2_d_sp - ux_d_cs2 + uy_d_cs2 - uxuy_d_cs4)\n",
    "            feq[j, i, 7] = rho[j, i]*w[7]*(1 + v2_d_sp - ux_d_cs2 - uy_d_cs2 + uxuy_d_cs4)\n",
    "            feq[j, i, 8] = rho[j, i]*w[8]*(1 + v2_d_sp + ux_d_cs2 - uy_d_cs2 - uxuy_d_cs4)"
   ]
  },
  {
   "cell_type": "code",
   "execution_count": 316,
   "metadata": {},
   "outputs": [],
   "source": [
    "@jit\n",
    "def collision(f, feq):\n",
    "    for j in range(1, ny+1):\n",
    "        for i in range(1, nx+1):\n",
    "            if j >= wyh or j <= wyl:\n",
    "                if i <= b_right and i >= b_left:\n",
    "                    continue\n",
    "            for q in range(nq):\n",
    "                f[j, i, q] = (1.0 - omega)*f[j, i, q] + omega*feq[j, i, q]"
   ]
  },
  {
   "cell_type": "code",
   "execution_count": 317,
   "metadata": {},
   "outputs": [],
   "source": [
    "@jit\n",
    "def streaming(f):\n",
    "    \n",
    "    f_temp = f.copy()  # copy can be avoided with write-back strategy    \n",
    "    \n",
    "    for j in range(1, ny+1):\n",
    "        for i in range(1, nx+1):\n",
    "            # first-order neighbours\n",
    "            f[j, i, 1] = f_temp[j, i-1, 1]\n",
    "            f[j, i, 2] = f_temp[j-1, i, 2]\n",
    "            f[j, i, 3] = f_temp[j, i+1, 3]\n",
    "            f[j, i, 4] = f_temp[j+1, i, 4]\n",
    "            \n",
    "            # second-order neighbours\n",
    "            f[j, i, 5] = f_temp[j-1, i-1, 5]\n",
    "            f[j, i, 6] = f_temp[j-1, i+1, 6]\n",
    "            f[j, i, 7] = f_temp[j+1, i+1, 7]\n",
    "            f[j, i, 8] = f_temp[j+1, i-1, 8]"
   ]
  },
  {
   "cell_type": "code",
   "execution_count": 318,
   "metadata": {},
   "outputs": [],
   "source": [
    "@jit\n",
    "def macroscopic(f, rho, ux, uy):\n",
    "    \n",
    "    for j in range(1, ny+1):\n",
    "        for i in range(1, nx+1):\n",
    "            if j >= wyh or j <= wyl:\n",
    "                if i <= b_right and i >= b_left:\n",
    "                    rho[j, i] = 0.0\n",
    "                    ux[j, i] = 0.0\n",
    "                    uy[j, i] = 0.0\n",
    "                    continue\n",
    "            rho[j, i] = f[j, i, :].sum()\n",
    "            \n",
    "                # unroll loop explictly to avoid summing over zeros\n",
    "            ux[j, i] = (f[j, i, 1] + f[j, i, 5] + f[j, i, 8] \n",
    "                           - f[j, i, 3] - f[j, i, 6] - f[j, i, 7]\n",
    "                          )/rho[j, i]\n",
    "\n",
    "            uy[j, i] = (f[j, i, 2] + f[j, i, 5] + f[j, i, 6] \n",
    "                           - f[j, i, 4] - f[j, i, 7] - f[j, i, 8]\n",
    "                          )/rho[j, i]\n",
    "            "
   ]
  },
  {
   "cell_type": "code",
   "execution_count": 240,
   "metadata": {},
   "outputs": [],
   "source": [
    "@jit\n",
    "def fill_buffer(f):\n",
    "    # north wall, bounce-back\n",
    "    for i in range(1, nx+1):\n",
    "        f[ny+1, i, 4] = f[ny, i, 2]\n",
    "        f[ny+1, i, 8] = f[ny, i+1, 6]\n",
    "        f[ny+1, i, 7] = f[ny, i-1, 5]\n",
    "        \n",
    "    # south wall, bounce-back\n",
    "    for i in range(1, nx+1):\n",
    "        f[0, i, 2] = f[1, i, 4]\n",
    "        f[0, i, 6] = f[1, i-1, 8]\n",
    "        f[0, i, 5] = f[1, i+1, 7]\n",
    "    \n",
    "    # west interface, periodic\n",
    "    for j in range(1, ny+1):\n",
    "        f[j, 0, 1] = f[j, nx, 1]\n",
    "        f[j, 0, 5] = f[j, nx, 5]\n",
    "        f[j, 0, 8] = f[j, nx, 8]\n",
    "    \n",
    "    # east interface, periodic\n",
    "    for j in range(1, ny+1):\n",
    "        f[j, nx+1, 3] = f[j, 1, 3]\n",
    "        f[j, nx+1, 6] = f[j, 1, 6]\n",
    "        f[j, nx+1, 7] = f[j, 1, 7]\n",
    "    \n",
    "    # 4 corners, bounce-back\n",
    "    f[ny+1, 0, 8] = f[ny, 1, 6]  # north-west\n",
    "    f[0, 0, 5] = f[1, 1, 7]  # south-west\n",
    "    f[ny+1, nx+1, 7] = f[ny, nx, 5]  # north-east\n",
    "    f[0, nx+1, 6] = f[1, nx, 8]  # south-east"
   ]
  },
  {
   "cell_type": "code",
   "execution_count": 250,
   "metadata": {},
   "outputs": [],
   "source": [
    "@jit\n",
    "def BC0(f):\n",
    "    # north wall, bounce-back\n",
    "    for i in range(1, nx+1):\n",
    "        f[ny+1, i, 4] = f[ny, i, 2]\n",
    "        f[ny+1, i, 8] = f[ny, i+1, 6]\n",
    "        f[ny+1, i, 7] = f[ny, i-1, 5]\n",
    "        \n",
    "    # south wall, bounce-back\n",
    "    for i in range(1, nx+1):\n",
    "        f[0, i, 2] = f[1, i, 4]\n",
    "        f[0, i, 6] = f[1, i-1, 8]\n",
    "        f[0, i, 5] = f[1, i+1, 7]\n",
    "    \n",
    "    # west interface, periodic\n",
    "    for j in range(1, ny+1):\n",
    "        f[j, 0, 1] = f[j, nx, 1]\n",
    "        f[j, 0, 5] = f[j, nx, 5]\n",
    "        f[j, 0, 8] = f[j, nx, 8]\n",
    "    \n",
    "    # east interface, periodic\n",
    "    for j in range(1, ny+1):\n",
    "        f[j, nx+1, 3] = f[j, 1, 3]\n",
    "        f[j, nx+1, 6] = f[j, 1, 6]\n",
    "        f[j, nx+1, 7] = f[j, 1, 7] \n",
    "    \n",
    "    \n",
    "    for j in range(b_left, b_right+1):\n",
    "        # top\n",
    "        f[wyh, j, 4] = f[wyh+1, j, 2]\n",
    "        f[wyh, j, 8] = f[wyh+1, j-1, 6]\n",
    "        f[wyh, j, 7] = f[wyh+1, j+1, 5]\n",
    "        # bottom \n",
    "        f[wyl, j, 2] = f[wyl-1, j, 4]\n",
    "        f[wyl, j, 5] = f[wyl-1, j-1, 7]\n",
    "        f[wyl, j, 6] = f[wyl-1, j+1, 8]\n",
    "        \n",
    "    for i in range(1, wyl+1):\n",
    "        # left\n",
    "        f[i, b_left, 3] = f[i, b_left+1, 1]\n",
    "        f[i, b_left, 7] = f[i+1, b_left+1, 5]\n",
    "        f[i, b_left, 6] = f[i-1, b_left+1, 8]\n",
    "        # right\n",
    "        f[i, b_right, 1] = f[i, b_right-1, 3]\n",
    "        f[i, b_right, 5] = f[i-1, b_right-1, 7]\n",
    "        f[i, b_right, 8] = f[i+1, b_right-1, 6]\n",
    "    \n",
    "    for i in range(wyh, ny+1):\n",
    "        # left\n",
    "        f[i, b_left, 3] = f[i, b_left+1, 1]\n",
    "        f[i, b_left, 7] = f[i+1, b_left+1, 5]\n",
    "        f[i, b_left, 6] = f[i-1, b_left+1, 8]\n",
    "        #right\n",
    "        f[i, b_right, 1] = f[i, b_right-1, 3]\n",
    "        f[i, b_right, 5] = f[i-1, b_right-1, 7]\n",
    "        f[i, b_right, 8] = f[i+1, b_right-1, 6]\n",
    "        \n",
    "    # square corners\n",
    "    # top square\n",
    "    f[ny, b_left, 7] = f[ny+1, b_left+1, 5] # north-west\n",
    "    f[ny, b_right, 8] = f[ny+1, b_right-1, 6] # north-east\n",
    "    f[wyh, b_right, 8] = f[wyh+1, b_right-1, 6] # south-west\n",
    "    f[wyh, b_left, 7] = f[wyh+1, b_left+1, 5] # south-east\n",
    "    # bottom square\n",
    "    f[wyl, b_left, 6] = f[wyl-1, b_left+1, 8]\n",
    "    f[wyl, b_right, 5] = f[wyh-1, b_right-1, 7]   \n",
    "    f[0, b_left, 6] = f[1, b_left+1, 8]\n",
    "    f[0, b_right, 5] = f[1, b_right-1, 7]\n",
    "\n",
    "    # 4 corners, bounce-back\n",
    "    f[ny+1, 0, 8] = f[ny, 1, 6]  # north-west\n",
    "    f[0, 0, 5] = f[1, 1, 7]  # south-west\n",
    "    f[ny+1, nx+1, 7] = f[ny, nx, 5]  # north-east\n",
    "    f[0, nx+1, 6] = f[1, nx, 8]  # south-east"
   ]
  },
  {
   "cell_type": "code",
   "execution_count": 305,
   "metadata": {},
   "outputs": [],
   "source": [
    "@jit\n",
    "def initialize(f, feq, rho, ux, uy):\n",
    "    '''\n",
    "    Output\n",
    "    ------\n",
    "    f: 3D numpy array, population\n",
    "    feq: 3D numpy array, equilibrium population\n",
    "    rho: 2D numpy array, density\n",
    "    ux, uy: 2D numpy array, velocity\n",
    "    '''\n",
    "    \n",
    "    # uniform density\n",
    "    rho[:] = 1.0\n",
    "    for j in range(1, ny+1):\n",
    "        for i in range(1, nx+1):\n",
    "            if j >= wyh or j <= wyl:\n",
    "                if i <= b_right and i >= b_left:\n",
    "                    rho[j,i] = 0.0\n",
    "                    continue\n",
    "    ux[:] = 0.0\n",
    "    uy[:] = 0.0\n",
    "    \n",
    "    # use equilibrium as initial population\n",
    "    equilibrium(rho, ux, uy, feq)\n",
    "    f[:] = feq\n",
    "\n",
    "@jit\n",
    "def lbm_solver(f, rho, ux, uy, nt):\n",
    "    \n",
    "    initialize(f, feq, rho, ux, uy)\n",
    "    \n",
    "    for it in range(0, nt):\n",
    "        BC0(f)\n",
    "        streaming(f)\n",
    "        macroscopic(f, rho, ux, uy)\n",
    "        equilibrium(rho, ux, uy, feq)\n",
    "        collision(f, feq)\n",
    "        apply_forcing(f, force)"
   ]
  },
  {
   "cell_type": "code",
   "execution_count": 351,
   "metadata": {},
   "outputs": [
    {
     "name": "stdout",
     "output_type": "stream",
     "text": [
      "CPU times: user 935 ms, sys: 17.4 ms, total: 952 ms\n",
      "Wall time: 976 ms\n"
     ]
    }
   ],
   "source": [
    "%time lbm_solver(f, rho, ux, uy, 1000)"
   ]
  },
  {
   "cell_type": "code",
   "execution_count": 352,
   "metadata": {},
   "outputs": [
    {
     "data": {
      "text/plain": [
       "<matplotlib.colorbar.Colorbar at 0x626a3b048>"
      ]
     },
     "execution_count": 352,
     "metadata": {},
     "output_type": "execute_result"
    },
    {
     "data": {
      "image/png": "[encoded data removed]",
      "text/plain": [
       "<Figure size 1440x360 with 2 Axes>"
      ]
     },
     "metadata": {
      "needs_background": "light"
     },
     "output_type": "display_data"
    }
   ],
   "source": [
    "plt.figure(figsize=(20,5))\n",
    "plt.pcolormesh(ux[1:-1,1:-1])\n",
    "plt.axis('equal')\n",
    "plt.colorbar()"
   ]
  },
  {
   "cell_type": "code",
   "execution_count": 322,
   "metadata": {},
   "outputs": [
    {
     "data": {
      "text/plain": [
       "[<matplotlib.lines.Line2D at 0x62643c978>]"
      ]
     },
     "execution_count": 322,
     "metadata": {},
     "output_type": "execute_result"
    },
    {
     "data": {
      "image/png": "[encoded data removed]",
      "text/plain": [
       "<Figure size 432x288 with 1 Axes>"
      ]
     },
     "metadata": {
      "needs_background": "light"
     },
     "output_type": "display_data"
    }
   ],
   "source": [
    "plt.plot(ux[1:-1, 100])  # cross-section, should be parabola"
   ]
  },
  {
   "cell_type": "code",
   "execution_count": 340,
   "metadata": {},
   "outputs": [
    {
     "data": {
      "text/plain": [
       "(0.14945349961468182, -0.15728429055624243)"
      ]
     },
     "execution_count": 340,
     "metadata": {},
     "output_type": "execute_result"
    }
   ],
   "source": [
    "uy.max(), uy.min()  # should be almost zero"
   ]
  },
  {
   "cell_type": "code",
   "execution_count": 341,
   "metadata": {},
   "outputs": [
    {
     "data": {
      "text/plain": [
       "(1.2475660849518486, 0.0)"
      ]
     },
     "execution_count": 341,
     "metadata": {},
     "output_type": "execute_result"
    }
   ],
   "source": [
    "rho.max(), rho.min()  # should be almost one"
   ]
  },
  {
   "cell_type": "code",
   "execution_count": null,
   "metadata": {},
   "outputs": [],
   "source": []
  }
 ],
 "metadata": {
  "kernelspec": {
   "display_name": "Python 3",
   "language": "python",
   "name": "python3"
  },
  "language_info": {
   "codemirror_mode": {
    "name": "ipython",
    "version": 3
   },
   "file_extension": ".py",
   "mimetype": "text/x-python",
   "name": "python",
   "nbconvert_exporter": "python",
   "pygments_lexer": "ipython3",
   "version": "3.6.7"
  }
 },
 "nbformat": 4,
 "nbformat_minor": 2
}
