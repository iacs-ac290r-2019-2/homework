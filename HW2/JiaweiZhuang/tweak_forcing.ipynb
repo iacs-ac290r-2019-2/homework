{
 "cells": [
  {
   "cell_type": "code",
   "execution_count": 1,
   "metadata": {},
   "outputs": [],
   "source": [
    "%matplotlib inline\n",
    "import matplotlib.pyplot as plt\n",
    "import xarray as xr"
   ]
  },
  {
   "cell_type": "markdown",
   "metadata": {},
   "source": [
    "Trying to get the correct forcing to match Reynolds number"
   ]
  },
  {
   "cell_type": "code",
   "execution_count": 2,
   "metadata": {},
   "outputs": [
    {
     "name": "stdout",
     "output_type": "stream",
     "text": [
      "usage: lbm.py [-h] [--omega OMEGA] [--force FORCE] [--wx WX] [--nt NT]\r\n",
      "\r\n",
      "optional arguments:\r\n",
      "  -h, --help     show this help message and exit\r\n",
      "  --omega OMEGA  relaxation parameter, between [0, 2]\r\n",
      "  --force FORCE  external forcing in x direction\r\n",
      "  --wx WX        width of the narrowing in region, between [0, 60]\r\n",
      "  --nt NT        total number of time steps\r\n"
     ]
    }
   ],
   "source": [
    "!python ./lbm.py --help"
   ]
  },
  {
   "cell_type": "code",
   "execution_count": 3,
   "metadata": {},
   "outputs": [
    {
     "name": "stdout",
     "output_type": "stream",
     "text": [
      "Arguments: Namespace(force=1e-08, nt=8000, omega=1.0, wx=30)\n",
      "Important parameters:\n",
      "Time steps: 8000\n",
      "Narrowing width w: 30\n",
      "Forcing: 1e-08\n",
      "Lelaxation omega: 1.0\n",
      "viscosity:  0.16666666666666666\n",
      "================ \n",
      "\n",
      "running solver... \n",
      "\n",
      "writing to file: lbm_w30_omega1.0_force1e-08_nt8000.nc\n",
      "\u001b[0m"
     ]
    }
   ],
   "source": [
    "!python ./lbm.py --force 1e-8 --nt 8000 --wx 30"
   ]
  },
  {
   "cell_type": "code",
   "execution_count": 4,
   "metadata": {},
   "outputs": [
    {
     "data": {
      "text/plain": [
       "<xarray.Dataset>\n",
       "Dimensions:  (x: 200, y: 60)\n",
       "Coordinates:\n",
       "  * x        (x) float64 1.0 2.0 3.0 4.0 5.0 6.0 7.0 8.0 9.0 10.0 11.0 12.0 ...\n",
       "  * y        (y) float64 1.0 2.0 3.0 4.0 5.0 6.0 7.0 8.0 9.0 10.0 11.0 12.0 ...\n",
       "Data variables:\n",
       "    ux       (y, x) float64 ...\n",
       "    uy       (y, x) float64 ...\n",
       "    rho      (y, x) float64 ...\n",
       "    p        (y, x) float64 ..."
      ]
     },
     "execution_count": 4,
     "metadata": {},
     "output_type": "execute_result"
    }
   ],
   "source": [
    "ds = xr.open_dataset('lbm_w30_omega1.0_force1e-08_nt20000.nc')\n",
    "ds"
   ]
  },
  {
   "cell_type": "code",
   "execution_count": 5,
   "metadata": {},
   "outputs": [
    {
     "data": {
      "text/plain": [
       "<xarray.DataArray 'ux' ()>\n",
       "array(2.997801e-05)\n",
       "Coordinates:\n",
       "    x        float64 1.0"
      ]
     },
     "execution_count": 5,
     "metadata": {},
     "output_type": "execute_result"
    }
   ],
   "source": [
    "ds['ux'].isel(x=0).mean()  # correct magnitude"
   ]
  },
  {
   "cell_type": "code",
   "execution_count": 7,
   "metadata": {},
   "outputs": [
    {
     "data": {
      "text/plain": [
       "<matplotlib.collections.QuadMesh at 0x31ee37860>"
      ]
     },
     "execution_count": 7,
     "metadata": {},
     "output_type": "execute_result"
    },
    {
     "data": {
      "image/png": "[encoded data removed]",
      "text/plain": [
       "<Figure size 432x288 with 2 Axes>"
      ]
     },
     "metadata": {},
     "output_type": "display_data"
    }
   ],
   "source": [
    "ds['ux'].plot(vmin=0)"
   ]
  }
 ],
 "metadata": {
  "kernelspec": {
   "display_name": "Python 3",
   "language": "python",
   "name": "python3"
  },
  "language_info": {
   "codemirror_mode": {
    "name": "ipython",
    "version": 3
   },
   "file_extension": ".py",
   "mimetype": "text/x-python",
   "name": "python",
   "nbconvert_exporter": "python",
   "pygments_lexer": "ipython3",
   "version": "3.6.6"
  }
 },
 "nbformat": 4,
 "nbformat_minor": 2
}
